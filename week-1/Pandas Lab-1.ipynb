{
 "cells": [
  {
   "cell_type": "code",
   "execution_count": 1,
   "id": "f0b9f34f",
   "metadata": {},
   "outputs": [],
   "source": [
    "import pandas as pd\n",
    "import numpy as np"
   ]
  },
  {
   "cell_type": "code",
   "execution_count": null,
   "id": "0e09f519",
   "metadata": {},
   "outputs": [],
   "source": [
    "#Q1. Write a Pandas program to convert Series of lists to one Series."
   ]
  },
  {
   "cell_type": "code",
   "execution_count": 3,
   "id": "cf589c87",
   "metadata": {},
   "outputs": [
    {
     "name": "stdout",
     "output_type": "stream",
     "text": [
      "[1, 2, 3, 4, 5, 6, 7, 8, 9, 10, 11, 12]\n",
      "0      1\n",
      "1      2\n",
      "2      3\n",
      "3      4\n",
      "4      5\n",
      "5      6\n",
      "6      7\n",
      "7      8\n",
      "8      9\n",
      "9     10\n",
      "10    11\n",
      "11    12\n",
      "dtype: int64\n"
     ]
    }
   ],
   "source": [
    "a=([[1,2,3],[4,5,6],[7,8,9],[10,11,12]])\n",
    "a=pd.Series(a)\n",
    "b=[item for i in a for item in i]\n",
    "print(b)\n",
    "c=pd.Series(b)\n",
    "print(c)"
   ]
  },
  {
   "cell_type": "code",
   "execution_count": null,
   "id": "7d7ab6b6",
   "metadata": {},
   "outputs": [],
   "source": [
    "#Q2. Write a Pandas program to create a subset of a given series based on value and condition."
   ]
  },
  {
   "cell_type": "code",
   "execution_count": 4,
   "id": "1fa4f8d0",
   "metadata": {},
   "outputs": [
    {
     "name": "stdout",
     "output_type": "stream",
     "text": [
      "0    1\n",
      "1    2\n",
      "2    3\n",
      "3    4\n",
      "dtype: int64\n",
      "5     6\n",
      "6     7\n",
      "7     8\n",
      "8     9\n",
      "9    10\n",
      "dtype: int64\n"
     ]
    }
   ],
   "source": [
    "a=([1,2,3,4,5,6,7,8,9,10])\n",
    "b=pd.Series(a)\n",
    "s1=b[b<5]\n",
    "s2=b[b>5]\n",
    "print(s1)\n",
    "print(s2)"
   ]
  },
  {
   "cell_type": "code",
   "execution_count": null,
   "id": "94653265",
   "metadata": {},
   "outputs": [],
   "source": [
    "#Q3. Write a Pandas program to display most frequent value in a given series and replace everything else as &#39;Other&#39; in the series."
   ]
  },
  {
   "cell_type": "code",
   "execution_count": 6,
   "id": "43554dae",
   "metadata": {},
   "outputs": [
    {
     "name": "stdout",
     "output_type": "stream",
     "text": [
      "0        1\n",
      "1    other\n",
      "2        1\n",
      "3        1\n",
      "4    other\n",
      "5    other\n",
      "6        1\n",
      "7        1\n",
      "dtype: object\n"
     ]
    }
   ],
   "source": [
    "a=([1,2,1,1,3,4,1,1])\n",
    "b=pd.Series(a)\n",
    "b.value_counts()\n",
    "b[~b.isin(b.value_counts().index[:1])]='other'\n",
    "print(b)"
   ]
  },
  {
   "cell_type": "code",
   "execution_count": null,
   "id": "ee665a68",
   "metadata": {},
   "outputs": [],
   "source": [
    "#Q4. Write a Pandas program to find the positions of numbers that are multiples of 5 of a given series."
   ]
  },
  {
   "cell_type": "code",
   "execution_count": 7,
   "id": "17755d60",
   "metadata": {},
   "outputs": [
    {
     "name": "stdout",
     "output_type": "stream",
     "text": [
      "2     5\n",
      "3    10\n",
      "4    15\n",
      "dtype: int64\n"
     ]
    }
   ],
   "source": [
    "a=([1,4,5,10,15])\n",
    "b=pd.Series(a)\n",
    "c=b[b%5==0]\n",
    "print(c)"
   ]
  },
  {
   "cell_type": "code",
   "execution_count": null,
   "id": "958bdf7d",
   "metadata": {},
   "outputs": [],
   "source": [
    "#Q5. Write a Pandas program to calculate the number of characters in each word in a given series."
   ]
  },
  {
   "cell_type": "code",
   "execution_count": 8,
   "id": "4d62d854",
   "metadata": {},
   "outputs": [
    {
     "name": "stdout",
     "output_type": "stream",
     "text": [
      "0    4\n",
      "1    5\n",
      "2    3\n",
      "dtype: int64\n"
     ]
    }
   ],
   "source": [
    "a=(['Arun','Venky','Sai'])\n",
    "b=pd.Series(a)\n",
    "c=b.apply(lambda i:len(i))\n",
    "print(c)"
   ]
  },
  {
   "cell_type": "code",
   "execution_count": null,
   "id": "8961e3a8",
   "metadata": {},
   "outputs": [],
   "source": [
    "#Q6. Write a Pandas program to convert year-month string to dates adding a specified day of the month."
   ]
  },
  {
   "cell_type": "code",
   "execution_count": 11,
   "id": "f65ebaa6",
   "metadata": {},
   "outputs": [
    {
     "name": "stdout",
     "output_type": "stream",
     "text": [
      "  year_month       Date\n",
      "0    2024-01 2024-01-26\n",
      "1    2023-03 2023-03-26\n",
      "2    2022-02 2022-02-26\n"
     ]
    }
   ],
   "source": [
    "a={'year_month':['2024-01','2023-03','2022-02']}\n",
    "b=pd.DataFrame(a)\n",
    "date=26\n",
    "b['Date']=pd.to_datetime(b['year_month']+ '-' +str(date),format='%Y-%m-%d')\n",
    "print(b)"
   ]
  },
  {
   "cell_type": "code",
   "execution_count": null,
   "id": "0ed49a2d",
   "metadata": {},
   "outputs": [],
   "source": [
    "#Q7. Write a Pandas program to create and display a DataFrame from a specified dictionary data which has the index labels."
   ]
  },
  {
   "cell_type": "code",
   "execution_count": 12,
   "id": "e60a456c",
   "metadata": {},
   "outputs": [
    {
     "name": "stdout",
     "output_type": "stream",
     "text": [
      "           Name  Age College\n",
      "Person1    Arun   21     srm\n",
      "Person2   Venky   25     vit\n",
      "Person3  Lohith   30     klu\n"
     ]
    }
   ],
   "source": [
    "a={'Name':['Arun','Venky','Lohith'],'Age':[21,25,30],'College':['srm','vit','klu']}\n",
    "label=['Person1','Person2','Person3']\n",
    "b=pd.DataFrame(a,index=label)\n",
    "print(b)"
   ]
  },
  {
   "cell_type": "code",
   "execution_count": null,
   "id": "8a385577",
   "metadata": {},
   "outputs": [],
   "source": [
    "#Q8. Write a Pandas program to select the rows where the number of attempts in the examination is greater than 2."
   ]
  },
  {
   "cell_type": "code",
   "execution_count": 14,
   "id": "2dacf74c",
   "metadata": {},
   "outputs": [
    {
     "name": "stdout",
     "output_type": "stream",
     "text": [
      "      Name  attempts\n",
      "1   Lohith         3\n",
      "2  Abhinav         5\n",
      "3    Ameen         4\n"
     ]
    }
   ],
   "source": [
    "a={'Name':['Arun','Lohith','Abhinav','Ameen'],'attempts':[2,3,5,4]}\n",
    "b=pd.DataFrame(a)\n",
    "c=b[b['attempts']>2]\n",
    "print(c)"
   ]
  },
  {
   "cell_type": "code",
   "execution_count": null,
   "id": "4326e937",
   "metadata": {},
   "outputs": [],
   "source": [
    "#Q9. Write a Pandas program to append a new row &#39;k&#39; to data frame with given values for each column. Now delete the new row and return the original DataFrame."
   ]
  },
  {
   "cell_type": "code",
   "execution_count": 17,
   "id": "e5abb04d",
   "metadata": {},
   "outputs": [
    {
     "name": "stdout",
     "output_type": "stream",
     "text": [
      "            Name  Age\n",
      "Person1     Arun   21\n",
      "Person2    Venky   25\n",
      "Person3  Abhinav   30\n",
      "           Name  Age\n",
      "Person4  Lohith   24\n",
      "Person5  Mahesh   19\n",
      "            Name  Age\n",
      "Person1     Arun   21\n",
      "Person2    Venky   25\n",
      "Person3  Abhinav   30\n"
     ]
    }
   ],
   "source": [
    "a={'Name':['Arun','Venky','Abhinav'],'Age':[21,25,30]}\n",
    "label=['Person1','Person2','Person3']\n",
    "b=pd.DataFrame(a,index=label)\n",
    "print(b)\n",
    "d={'Name':['Lohith','Mahesh'],'Age':[24,19]}\n",
    "label1=['Person4','Person5']\n",
    "e=pd.DataFrame(d,index=label1)\n",
    "print(e)\n",
    "f=b.append(e)\n",
    "f=f.drop('Person4')\n",
    "f=f.drop('Person5')\n",
    "print(f)"
   ]
  },
  {
   "cell_type": "code",
   "execution_count": null,
   "id": "397ddd7c",
   "metadata": {},
   "outputs": [],
   "source": [
    "#Q10. Write a Pandas program to sort the DataFrame first by &#39;name&#39; in descending order, then by &#39;score&#39; in ascending order."
   ]
  },
  {
   "cell_type": "code",
   "execution_count": 18,
   "id": "325e09db",
   "metadata": {},
   "outputs": [
    {
     "name": "stdout",
     "output_type": "stream",
     "text": [
      "     Name  score\n",
      "4   Ameen     17\n",
      "3  Lohith     18\n",
      "0    Arun     20\n",
      "1   Venky     24\n",
      "2     Sai     25\n",
      "     Name  score\n",
      "1   Venky     24\n",
      "2     Sai     25\n",
      "3  Lohith     18\n",
      "0    Arun     20\n",
      "4   Ameen     17\n"
     ]
    }
   ],
   "source": [
    "a={'Name':['Arun','Venky','Sai','Lohith','Ameen'],'score':[20,24,25,18,17]}\n",
    "b=pd.DataFrame(a)\n",
    "c=b.sort_values(by='score',ascending=True)\n",
    "print(c)\n",
    "d=b.sort_values(by='Name',ascending=False)\n",
    "print(d)"
   ]
  },
  {
   "cell_type": "code",
   "execution_count": null,
   "id": "0d539f91",
   "metadata": {},
   "outputs": [],
   "source": [
    "#Q11. Write a Pandas program to replace the &#39;qualify&#39; column contains the values &#39;yes&#39; and &#39;no&#39; with True and False.\n"
   ]
  },
  {
   "cell_type": "code",
   "execution_count": 19,
   "id": "bf451e2b",
   "metadata": {},
   "outputs": [
    {
     "name": "stdout",
     "output_type": "stream",
     "text": [
      "  candidate qualify\n",
      "0     venky    True\n",
      "1      arun      No\n",
      "2       sai      No\n",
      "  candidate  qualify\n",
      "0     venky     True\n",
      "1      arun    False\n",
      "2       sai    False\n"
     ]
    }
   ],
   "source": [
    "a={'candidate':['venky','arun','sai'],'qualify':['Yes','No','No']}\n",
    "a=pd.DataFrame(a)\n",
    "a=a.replace('Yes',True)\n",
    "print(a)\n",
    "a=a.replace('No',False)\n",
    "print(a)"
   ]
  },
  {
   "cell_type": "code",
   "execution_count": null,
   "id": "bd2bd667",
   "metadata": {},
   "outputs": [],
   "source": [
    "#Q12. Write a Pandas program to remove infinite values from a given DataFrame."
   ]
  },
  {
   "cell_type": "code",
   "execution_count": 21,
   "id": "a4c0bab2",
   "metadata": {},
   "outputs": [
    {
     "name": "stdout",
     "output_type": "stream",
     "text": [
      "DataFrame after removing infinite values:\n",
      "    C1   C2  C3\n",
      "1  2.0  2.0   2\n",
      "2  3.0  3.0   3\n",
      "4  5.0  5.0   5\n"
     ]
    }
   ],
   "source": [
    "a = {'C1': [1, 2, 3, np.inf, 5],'C2': [np.inf, 2, 3, 4, 5],'C3': [1, 2, 3, 4, 5]}\n",
    "a = pd.DataFrame(a)\n",
    "a.replace([np.inf, -np.inf], np.nan, inplace=True)\n",
    "a.dropna(inplace=True)\n",
    "print(\"DataFrame after removing infinite values:\")\n",
    "print(a)"
   ]
  }
 ],
 "metadata": {
  "kernelspec": {
   "display_name": "Python 3 (ipykernel)",
   "language": "python",
   "name": "python3"
  },
  "language_info": {
   "codemirror_mode": {
    "name": "ipython",
    "version": 3
   },
   "file_extension": ".py",
   "mimetype": "text/x-python",
   "name": "python",
   "nbconvert_exporter": "python",
   "pygments_lexer": "ipython3",
   "version": "3.7.5"
  }
 },
 "nbformat": 4,
 "nbformat_minor": 5
}
