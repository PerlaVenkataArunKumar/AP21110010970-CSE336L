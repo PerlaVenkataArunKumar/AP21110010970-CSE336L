{
 "cells": [
  {
   "cell_type": "code",
   "execution_count": 1,
   "id": "d5a2aeb3",
   "metadata": {},
   "outputs": [],
   "source": [
    "import numpy as np\n",
    "import pandas as pd"
   ]
  },
  {
   "cell_type": "markdown",
   "id": "626f610d",
   "metadata": {},
   "source": [
    "### 1. Create a vector (array) of 1XN dimension representing N-\n",
    "dimensional feature vector of a sample. Write a program to\n",
    "\n",
    "compute the mean and variance of the elements present in the\n",
    "array."
   ]
  },
  {
   "cell_type": "code",
   "execution_count": 14,
   "id": "7a23c775",
   "metadata": {},
   "outputs": [
    {
     "name": "stdout",
     "output_type": "stream",
     "text": [
      "Sample Vector:  [[0.04191182 0.83222769 0.67698859 0.56206456 0.69573622]]\n",
      "Mean:  0.561785776237761\n",
      "Population Variance:  0.07492444945931029\n"
     ]
    }
   ],
   "source": [
    "def compute(n):\n",
    "    #Mean\n",
    "    mean=np.sum(n)/np.size(n)\n",
    "    #Population Variance\n",
    "    a=(n-mean)**2\n",
    "    v1=np.sum(a)/np.size(n)\n",
    "    return mean,v1\n",
    "N=5\n",
    "arr=np.random.rand(1,N)\n",
    "mean,Population_variance=compute(arr)\n",
    "print(\"Sample Vector: \",arr)\n",
    "print(\"Mean: \",mean)\n",
    "print(\"Population Variance: \",Population_variance)"
   ]
  },
  {
   "cell_type": "markdown",
   "id": "e669e131",
   "metadata": {},
   "source": [
    "# 2. Create two vectors each of dimension 1XM each representing N-\n",
    "dimensional feature vector of a sample. Write a program to\n",
    "\n",
    "compute the Covariance between them."
   ]
  },
  {
   "cell_type": "code",
   "execution_count": 19,
   "id": "e9fccd70",
   "metadata": {},
   "outputs": [
    {
     "name": "stdout",
     "output_type": "stream",
     "text": [
      "Vector 1:  [[0.69554501 0.81573708 0.59869185 0.1119828  0.53827259]]\n",
      "Vector 2:  [[0.54358184 0.07379107 0.69592739 0.738065   0.28053061]]\n",
      "Covariance:  -0.04968379264083387\n"
     ]
    }
   ],
   "source": [
    "def cov(n1,n2):\n",
    "    mean1=np.sum(n1)/np.size(n1)\n",
    "    mean2=np.sum(n2)/np.size(n2)\n",
    "    a1=(n1-mean1)\n",
    "    a2=(n2-mean2)\n",
    "    b=a1*a2\n",
    "    covariance=np.sum(b)/(np.size(n1)-1)\n",
    "    return covariance\n",
    "M=5\n",
    "arr1=np.random.rand(1,M)\n",
    "arr2=np.random.rand(1,M)\n",
    "c=cov(arr1,arr2)\n",
    "print(\"Vector 1: \",arr1)\n",
    "print(\"Vector 2: \",arr2)\n",
    "print(\"Covariance: \",c)"
   ]
  },
  {
   "cell_type": "markdown",
   "id": "16d322f2",
   "metadata": {},
   "source": [
    "# Create two vectors each of dimension 1XN. Write a program to\n",
    "compute the Correlation between them.\n",
    "\n",
    "Comment what the Correlation represents."
   ]
  },
  {
   "cell_type": "code",
   "execution_count": 21,
   "id": "57aaf684",
   "metadata": {},
   "outputs": [
    {
     "name": "stdout",
     "output_type": "stream",
     "text": [
      "Vector 1:  [[0.89515331 0.40952396 0.86014463 0.08637972 0.91126682]]\n",
      "Vector 2:  [[0.18139529 0.13857302 0.94724397 0.4944088  0.88767736]]\n",
      "Correlation:  0.46670724356172005\n"
     ]
    }
   ],
   "source": [
    "def Cor(n1,n2):\n",
    "    covariance=cov(n1,n2)\n",
    "    m1,v1=compute(n1)\n",
    "    m2,v2=compute(n2)\n",
    "    k=np.sqrt(v1)*np.sqrt(v2)\n",
    "    correlation=covariance/k\n",
    "    return correlation\n",
    "N=5\n",
    "arr1=np.random.rand(1,N)\n",
    "arr2=np.random.rand(1,N)\n",
    "corr=Cor(arr1,arr2)\n",
    "print(\"Vector 1: \",arr1)\n",
    "print(\"Vector 2: \",arr2)\n",
    "print(\"Correlation: \",corr)"
   ]
  },
  {
   "cell_type": "markdown",
   "id": "e3517c17",
   "metadata": {},
   "source": [
    "# 4. Create a Matrix of MXN dimension representing the M-dimensional\n",
    "feature vector for N number of samples i. e (i,j)th entry of the matrix\n",
    "represents the ith feature of jth sample. Write a program to compute\n",
    "the covariance matrix and correlation matrix. Comment on\n",
    "takeaways from these matrixes."
   ]
  },
  {
   "cell_type": "code",
   "execution_count": 22,
   "id": "e9999b6e",
   "metadata": {},
   "outputs": [
    {
     "name": "stdout",
     "output_type": "stream",
     "text": [
      "Feature Matrix:\n",
      "[[0.91381178 0.77816384 0.32483007 0.560147   0.50479307]\n",
      " [0.88597105 0.780656   0.3493493  0.32212784 0.77615114]\n",
      " [0.90513471 0.72400043 0.99511125 0.37654673 0.76194217]]\n",
      "\n",
      "Covariance Matrix:\n",
      "[[ 0.05381371  0.04583356 -0.00246457]\n",
      " [ 0.04583356  0.07071828  0.02095366]\n",
      " [-0.00246457  0.02095366  0.05609995]]\n",
      "\n",
      "Correlation Matrix:\n",
      "[[ 1.          0.74297004 -0.04485529]\n",
      " [ 0.74297004  1.          0.33266932]\n",
      " [-0.04485529  0.33266932  1.        ]]\n"
     ]
    }
   ],
   "source": [
    "import numpy as np\n",
    "\n",
    "def cov_matrix(matrix):\n",
    "    cov_m= np.cov(matrix)\n",
    "\n",
    "    return cov_m\n",
    "\n",
    "def corr_matrix(matrix):\n",
    "    corr_m = np.corrcoef(matrix)\n",
    "\n",
    "    return corr_m\n",
    "\n",
    "M = 3 \n",
    "N = 5  \n",
    "feature_matrix = np.random.rand(M, N)\n",
    "covariance_matrix = cov_matrix(feature_matrix)\n",
    "correlation_matrix = corr_matrix(feature_matrix)\n",
    "\n",
    "print(\"Feature Matrix:\")\n",
    "print(feature_matrix)\n",
    "print(\"\\nCovariance Matrix:\")\n",
    "print(covariance_matrix)\n",
    "print(\"\\nCorrelation Matrix:\")\n",
    "print(correlation_matrix)\n"
   ]
  },
  {
   "cell_type": "code",
   "execution_count": null,
   "id": "755a5878",
   "metadata": {},
   "outputs": [],
   "source": []
  }
 ],
 "metadata": {
  "kernelspec": {
   "display_name": "Python 3 (ipykernel)",
   "language": "python",
   "name": "python3"
  },
  "language_info": {
   "codemirror_mode": {
    "name": "ipython",
    "version": 3
   },
   "file_extension": ".py",
   "mimetype": "text/x-python",
   "name": "python",
   "nbconvert_exporter": "python",
   "pygments_lexer": "ipython3",
   "version": "3.7.5"
  }
 },
 "nbformat": 4,
 "nbformat_minor": 5
}
