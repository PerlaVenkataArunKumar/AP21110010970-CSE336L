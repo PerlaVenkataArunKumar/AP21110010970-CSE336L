{
 "cells": [
  {
   "cell_type": "code",
   "execution_count": 2,
   "id": "0fda24af",
   "metadata": {},
   "outputs": [],
   "source": [
    "import numpy as np "
   ]
  },
  {
   "cell_type": "code",
   "execution_count": null,
   "id": "624ce169",
   "metadata": {},
   "outputs": [],
   "source": [
    "#Q1 Write a NumPy program to multiply two given arrays of same size element-by-element."
   ]
  },
  {
   "cell_type": "code",
   "execution_count": 9,
   "id": "77288084",
   "metadata": {},
   "outputs": [
    {
     "name": "stdout",
     "output_type": "stream",
     "text": [
      "4\n",
      "10\n",
      "18\n",
      "[ 4 10 18]\n"
     ]
    }
   ],
   "source": [
    "a=np.array([1,2,3])\n",
    "b=np.array([4,5,6])\n",
    "c=[]\n",
    "for i in range(len(a)):\n",
    "    print(a[i]*b[i])\n",
    "    c.append(a[i]*b[i])\n",
    "e=np.array(c)\n",
    "print(e)"
   ]
  },
  {
   "cell_type": "code",
   "execution_count": 10,
   "id": "3442f338",
   "metadata": {},
   "outputs": [],
   "source": [
    "#Q2 Write a NumPy program to find the missing data in a given array."
   ]
  },
  {
   "cell_type": "code",
   "execution_count": 11,
   "id": "7b736dfc",
   "metadata": {},
   "outputs": [
    {
     "name": "stdout",
     "output_type": "stream",
     "text": [
      "Array with missing data:\n",
      "[[ 1. 20. nan  2.]\n",
      " [ 2. 30. nan  4.]]\n",
      "Array:\n",
      "[[False False  True False]\n",
      " [False False  True False]]\n"
     ]
    }
   ],
   "source": [
    "a=np.array([[1,20,np.nan,2],[2,30,np.nan,4]])\n",
    "print(\"Array with missing data:\")\n",
    "print(a)\n",
    "print(\"Array:\")\n",
    "print(np.isnan(a))"
   ]
  },
  {
   "cell_type": "code",
   "execution_count": 12,
   "id": "688c80ec",
   "metadata": {},
   "outputs": [],
   "source": [
    "#Q3 Write a NumPy program to test whether each element of a 1-D array is also present in a second array."
   ]
  },
  {
   "cell_type": "code",
   "execution_count": 13,
   "id": "d054d62e",
   "metadata": {},
   "outputs": [
    {
     "name": "stdout",
     "output_type": "stream",
     "text": [
      "[ True  True  True  True]\n"
     ]
    }
   ],
   "source": [
    "a=np.array([1,2,3,4])\n",
    "b=np.array([1,2,3,4])\n",
    "c=np.isin(a,b)\n",
    "print(c)\n",
    "\n",
    "#isin() returns true when given element of one array present in another array else false"
   ]
  },
  {
   "cell_type": "code",
   "execution_count": 14,
   "id": "d9e11723",
   "metadata": {},
   "outputs": [],
   "source": [
    "#Q4 Save an array to txt file "
   ]
  },
  {
   "cell_type": "code",
   "execution_count": 15,
   "id": "18375b54",
   "metadata": {},
   "outputs": [],
   "source": [
    "a=([1,2,3,4])\n",
    "b=np.array(a)\n",
    "c=np.savetxt(\"numpyarray.txt\",b)"
   ]
  },
  {
   "cell_type": "code",
   "execution_count": 16,
   "id": "4052918d",
   "metadata": {},
   "outputs": [],
   "source": [
    "#Q5 Write a NumPy program to Create a 1-D array of 30 evenly spaced elements between 2.5. and 6.5, inclusive\n"
   ]
  },
  {
   "cell_type": "code",
   "execution_count": 17,
   "id": "5df722e8",
   "metadata": {},
   "outputs": [
    {
     "name": "stdout",
     "output_type": "stream",
     "text": [
      "[ 0.   2.5  5.   7.5 10.  12.5 15.  17.5 20.  22.5 25.  27.5]\n",
      "[ 0.   6.5 13.  19.5 26. ]\n"
     ]
    }
   ],
   "source": [
    "a=np.arange(0,30,2.5)\n",
    "print(a)\n",
    "b=np.arange(0,30,6.5)\n",
    "print(b)"
   ]
  },
  {
   "cell_type": "code",
   "execution_count": null,
   "id": "73822a01",
   "metadata": {},
   "outputs": [],
   "source": []
  }
 ],
 "metadata": {
  "kernelspec": {
   "display_name": "Python 3 (ipykernel)",
   "language": "python",
   "name": "python3"
  },
  "language_info": {
   "codemirror_mode": {
    "name": "ipython",
    "version": 3
   },
   "file_extension": ".py",
   "mimetype": "text/x-python",
   "name": "python",
   "nbconvert_exporter": "python",
   "pygments_lexer": "ipython3",
   "version": "3.7.5"
  }
 },
 "nbformat": 4,
 "nbformat_minor": 5
}
